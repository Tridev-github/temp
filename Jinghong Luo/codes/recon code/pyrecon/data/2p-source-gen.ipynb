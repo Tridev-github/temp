{
 "cells": [
  {
   "cell_type": "code",
   "execution_count": 21,
   "id": "cb5848c6",
   "metadata": {},
   "outputs": [
    {
     "data": {
      "image/png": "[encoded data removed]",
      "text/plain": [
       "<Figure size 640x480 with 2 Axes>"
      ]
     },
     "metadata": {},
     "output_type": "display_data"
    },
    {
     "name": "stdout",
     "output_type": "stream",
     "text": [
      "图像已保存为  2pclose.npz\n"
     ]
    }
   ],
   "source": [
    "import numpy as np\n",
    "import matplotlib.pyplot as plt\n",
    "\n",
    "def create_grayscale_image(size=(100, 100)):\n",
    "    \"\"\"创建一张指定大小的灰度图（初始为全黑）。\"\"\"\n",
    "    return np.zeros(size, dtype=np.float64)\n",
    "\n",
    "def add_circle(image, center, radius, intensity):\n",
    "    \"\"\"在图像中添加一个圆形亮点。\n",
    "    \n",
    "    参数:\n",
    "    - image: 二维数组，表示灰度图像。\n",
    "    - center: 圆心坐标 (x, y)。\n",
    "    - radius: 圆的半径。\n",
    "    - intensity: 圆内像素的亮度值（0到1之间）。\n",
    "    \"\"\"\n",
    "    y, x = np.ogrid[:image.shape[0], :image.shape[1]]\n",
    "    distance = np.sqrt((x - center[0])**2 + (y - center[1])**2)\n",
    "    mask = distance <= radius\n",
    "    image[mask] = intensity\n",
    "\n",
    "def visualize_image(image):\n",
    "    \"\"\"显示灰度图像。\"\"\"\n",
    "    plt.imshow(image, cmap='gray', vmin=0, vmax=1)\n",
    "    plt.colorbar()\n",
    "    plt.show()\n",
    "\n",
    "def main():\n",
    "    # 创建一个100x100的灰度图\n",
    "    image = create_grayscale_image((100, 100))\n",
    "    \n",
    "    # 定义圆形亮点的参数\n",
    "    circles = [\n",
    "       # {\"center\": (50, 65), \"radius\": 5, \"intensity\": 1},\n",
    "      #{\"center\": (50, 35 ), \"radius\": 5, \"intensity\": 1},\n",
    "       #  {\"center\": (35, 50), \"radius\": 5, \"intensity\": 1},\n",
    "         {\"center\": (50, 50), \"radius\": 10, \"intensity\": 1},\n",
    "    ]\n",
    "    \n",
    "    # 在图像上添加圆形亮点\n",
    "    for circle in circles:\n",
    "        add_circle(image, circle[\"center\"], circle[\"radius\"], circle[\"intensity\"])\n",
    "    \n",
    "    # 可视化图像\n",
    "    visualize_image(image)\n",
    "    \n",
    "    # 保存图像到一个压缩的npz文件\n",
    "    np.savez_compressed(\"2pclose.npz\", phantom=image)\n",
    "    print(\"图像已保存为 \",\"2pclose.npz\")\n",
    "\n",
    "if __name__ == \"__main__\":\n",
    "    main()\n"
   ]
  },
  {
   "cell_type": "code",
   "execution_count": null,
   "id": "fb1fff8c",
   "metadata": {},
   "outputs": [],
   "source": []
  }
 ],
 "metadata": {
  "kernelspec": {
   "display_name": "Python 3 (ipykernel)",
   "language": "python",
   "name": "python3"
  },
  "language_info": {
   "codemirror_mode": {
    "name": "ipython",
    "version": 3
   },
   "file_extension": ".py",
   "mimetype": "text/x-python",
   "name": "python",
   "nbconvert_exporter": "python",
   "pygments_lexer": "ipython3",
   "version": "3.12.4"
  }
 },
 "nbformat": 4,
 "nbformat_minor": 5
}

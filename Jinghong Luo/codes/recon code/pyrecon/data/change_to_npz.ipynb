{
 "cells": [
  {
   "cell_type": "code",
   "execution_count": 1,
   "id": "2be07b2e",
   "metadata": {},
   "outputs": [
    {
     "name": "stderr",
     "output_type": "stream",
     "text": [
      "C:\\Users\\ljh040217\\AppData\\Local\\Temp\\ipykernel_16972\\3605340389.py:6: MatplotlibDeprecationWarning: The get_cmap function was deprecated in Matplotlib 3.7 and will be removed in 3.11. Use ``matplotlib.colormaps[name]`` or ``matplotlib.colormaps.get_cmap()`` or ``pyplot.get_cmap()`` instead.\n",
      "  my_cmap = matplotlib.cm.get_cmap('turbo')\n"
     ]
    }
   ],
   "source": [
    "#import ROOT as rt\n",
    "from matplotlib import pyplot as plt\n",
    "import numpy as np\n",
    "import matplotlib.cm \n",
    "import h5py\n",
    "my_cmap = matplotlib.cm.get_cmap('turbo')\n",
    "# ROOT 设置\n",
    "#rt.gROOT.SetBatch(True)"
   ]
  },
  {
   "cell_type": "code",
   "execution_count": 2,
   "id": "4b40c2bc",
   "metadata": {},
   "outputs": [],
   "source": [
    "infile = rt.TFile(\"ljh_folder/5hole/5hole.root\")\n",
    "ppdfs_list=[]\n",
    "N_fov=(100,100)"
   ]
  },
  {
   "cell_type": "code",
   "execution_count": 3,
   "id": "21f0b199",
   "metadata": {},
   "outputs": [],
   "source": [
    "tree_singles1 = infile.Singles_crystal1\n",
    "htmp=rt.TH2D(\"htmp\",\"htmp\",N_fov[0],-N_fov[0]//2,N_fov[0]//2,N_fov[1],-N_fov[1]//2,N_fov[1]//2)\n",
    "tree_singles1.Draw(\"sourcePosY:sourcePosX>>htmp\", \"\", \"goff\")\n",
    "ppdfs_list.append(np.array(htmp).reshape((N_fov[0]+2,N_fov[1]+2))[1:-1,1:-1])\n",
    "del htmp\n",
    "for i in range(1, 36):\n",
    "    htmp=rt.TH2D(\"htmp\",\"htmp\",N_fov[0],-N_fov[0]//2,N_fov[0]//2,N_fov[1],-N_fov[1]//2,N_fov[1]//2)\n",
    "    tree_name = f\"Singles_crystal1_run{i}\"\n",
    "    tree = getattr(infile, tree_name)\n",
    "    tree.Draw(\"sourcePosY:sourcePosX>>htmp\",\"\",\"goff\")\n",
    "    ppdfs_list.append(np.array(htmp).reshape((N_fov[0]+2,N_fov[1]+2))[1:-1,1:-1])\n",
    "    del htmp\n",
    "\n",
    "tree_singles2 = infile.Singles_crystal2\n",
    "htmp=rt.TH2D(\"htmp\",\"htmp\",N_fov[0],-N_fov[0]//2,N_fov[0]//2,N_fov[1],-N_fov[1]//2,N_fov[1]//2)\n",
    "tree_singles2.Draw(\"sourcePosY:sourcePosX>>htmp\", \"\", \"goff\")\n",
    "ppdfs_list.append(np.array(htmp).reshape((N_fov[0]+2,N_fov[1]+2))[1:-1,1:-1])\n",
    "del htmp\n",
    "for i in range(1, 36):\n",
    "    htmp=rt.TH2D(\"htmp\",\"htmp\",N_fov[0],-N_fov[0]//2,N_fov[0]//2,N_fov[1],-N_fov[1]//2,N_fov[1]//2)\n",
    "    tree_name = f\"Singles_crystal2_run{i}\"\n",
    "    tree = getattr(infile, tree_name)\n",
    "    tree.Draw(\"sourcePosY:sourcePosX>>htmp\",\"\",\"goff\")\n",
    "    ppdfs_list.append(np.array(htmp).reshape((N_fov[0]+2,N_fov[1]+2))[1:-1,1:-1])\n",
    "    del htmp\n",
    "\n",
    "tree_singles3 = infile.Singles_crystal3\n",
    "htmp=rt.TH2D(\"htmp\",\"htmp\",N_fov[0],-N_fov[0]//2,N_fov[0]//2,N_fov[1],-N_fov[1]//2,N_fov[1]//2)\n",
    "tree_singles3.Draw(\"sourcePosY:sourcePosX>>htmp\", \"\", \"goff\")\n",
    "ppdfs_list.append(np.array(htmp).reshape((N_fov[0]+2,N_fov[1]+2))[1:-1,1:-1])\n",
    "del htmp\n",
    "for i in range(1, 36):\n",
    "    htmp=rt.TH2D(\"htmp\",\"htmp\",N_fov[0],-N_fov[0]//2,N_fov[0]//2,N_fov[1],-N_fov[1]//2,N_fov[1]//2)\n",
    "    tree_name = f\"Singles_crystal3_run{i}\"\n",
    "    tree = getattr(infile, tree_name)\n",
    "    tree.Draw(\"sourcePosY:sourcePosX>>htmp\",\"\",\"goff\")\n",
    "    ppdfs_list.append(np.array(htmp).reshape((N_fov[0]+2,N_fov[1]+2))[1:-1,1:-1])\n",
    "    del htmp\n",
    "\n",
    "tree_singles4 = infile.Singles_crystal4\n",
    "htmp=rt.TH2D(\"htmp\",\"htmp\",N_fov[0],-N_fov[0]//2,N_fov[0]//2,N_fov[1],-N_fov[1]//2,N_fov[1]//2)\n",
    "tree_singles4.Draw(\"sourcePosY:sourcePosX>>htmp\", \"\", \"goff\")\n",
    "ppdfs_list.append(np.array(htmp).reshape((N_fov[0]+2,N_fov[1]+2))[1:-1,1:-1])\n",
    "del htmp\n",
    "for i in range(1, 36):\n",
    "    htmp=rt.TH2D(\"htmp\",\"htmp\",N_fov[0],-N_fov[0]//2,N_fov[0]//2,N_fov[1],-N_fov[1]//2,N_fov[1]//2)\n",
    "    tree_name = f\"Singles_crystal4_run{i}\"\n",
    "    tree = getattr(infile, tree_name)\n",
    "    tree.Draw(\"sourcePosY:sourcePosX>>htmp\",\"\",\"goff\")\n",
    "    ppdfs_list.append(np.array(htmp).reshape((N_fov[0]+2,N_fov[1]+2))[1:-1,1:-1])\n",
    "    del htmp\n",
    "\n",
    "tree_singles5 = infile.Singles_crystal5\n",
    "htmp=rt.TH2D(\"htmp\",\"htmp\",N_fov[0],-N_fov[0]//2,N_fov[0]//2,N_fov[1],-N_fov[1]//2,N_fov[1]//2)\n",
    "tree_singles5.Draw(\"sourcePosY:sourcePosX>>htmp\", \"\", \"goff\")\n",
    "ppdfs_list.append(np.array(htmp).reshape((N_fov[0]+2,N_fov[1]+2))[1:-1,1:-1])\n",
    "del htmp\n",
    "for i in range(1, 36):\n",
    "    htmp=rt.TH2D(\"htmp\",\"htmp\",N_fov[0],-N_fov[0]//2,N_fov[0]//2,N_fov[1],-N_fov[1]//2,N_fov[1]//2)\n",
    "    tree_name = f\"Singles_crystal5_run{i}\"\n",
    "    tree = getattr(infile, tree_name)\n",
    "    tree.Draw(\"sourcePosY:sourcePosX>>htmp\",\"\",\"goff\")\n",
    "    ppdfs_list.append(np.array(htmp).reshape((N_fov[0]+2,N_fov[1]+2))[1:-1,1:-1])\n",
    "    del htmp"
   ]
  },
  {
   "cell_type": "code",
   "execution_count": 4,
   "id": "1056cccc",
   "metadata": {},
   "outputs": [
    {
     "name": "stdout",
     "output_type": "stream",
     "text": [
      "(180, 100, 100)\n"
     ]
    }
   ],
   "source": [
    "sysmat=np.array(ppdfs_list)\n",
    "#sysmat/=31572097\n",
    "print(sysmat.shape)\n",
    "np.savez_compressed('5hole_repeater.npz',sysmat=sysmat)"
   ]
  },
  {
   "cell_type": "code",
   "execution_count": 3,
   "id": "f42d045d",
   "metadata": {},
   "outputs": [
    {
     "name": "stdout",
     "output_type": "stream",
     "text": [
      "52658.0\n"
     ]
    }
   ],
   "source": [
    "sysmat = np.load( \"5hole_repeater.npz\")[\n",
    "    \"sysmat\"\n",
    "]\n",
    "np.set_printoptions(threshold=np.inf) \n",
    "data=sysmat.reshape(180,10000)\n",
    "print(np.sum(data))"
   ]
  }
 ],
 "metadata": {
  "kernelspec": {
   "display_name": "Python 3 (ipykernel)",
   "language": "python",
   "name": "python3"
  },
  "language_info": {
   "codemirror_mode": {
    "name": "ipython",
    "version": 3
   },
   "file_extension": ".py",
   "mimetype": "text/x-python",
   "name": "python",
   "nbconvert_exporter": "python",
   "pygments_lexer": "ipython3",
   "version": "3.12.4"
  }
 },
 "nbformat": 4,
 "nbformat_minor": 5
}

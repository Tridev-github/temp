{
 "cells": [
  {
   "cell_type": "code",
   "execution_count": 1,
   "id": "d74d634f",
   "metadata": {},
   "outputs": [
    {
     "name": "stdout",
     "output_type": "stream",
     "text": [
      "Welcome to JupyROOT 6.26/10\n"
     ]
    }
   ],
   "source": [
    "import ROOT as rt\n",
    "from matplotlib import pyplot as plt\n",
    "import numpy as np\n",
    "import matplotlib.cm \n",
    "import h5py\n",
    "my_cmap = matplotlib.cm.get_cmap('turbo')\n",
    "# ROOT 设置\n",
    "rt.gROOT.SetBatch(True)"
   ]
  },
  {
   "cell_type": "code",
   "execution_count": 2,
   "id": "ae508004",
   "metadata": {},
   "outputs": [],
   "source": [
    "#import the file\n",
    "infile = rt.TFile(\"ljh_folder/mosaic/mosaic.root\")\n",
    "#use a list to save the data\n",
    "ppdfs_list=[]\n",
    "N_fov=(100,100)"
   ]
  },
  {
   "cell_type": "code",
   "execution_count": 4,
   "id": "665dc449",
   "metadata": {},
   "outputs": [],
   "source": [
    "#put the data into list\n",
    "tree_singles1 = infile.Singles_crystal1\n",
    "htmp=rt.TH2D(\"htmp\",\"htmp\",N_fov[0],-N_fov[0]//2,N_fov[0]//2,N_fov[1],-N_fov[1]//2,N_fov[1]//2)\n",
    "tree_singles1.Draw(\"sourcePosY:sourcePosX>>htmp\", \"\", \"goff\")\n",
    "ppdfs_list.append(np.array(htmp).reshape((N_fov[0]+2,N_fov[1]+2))[1:-1,1:-1])\n",
    "del htmp\n",
    "\n",
    "\n",
    "\n",
    "for i in range(1, 36):\n",
    "    htmp=rt.TH2D(\"htmp\",\"htmp\",N_fov[0],-N_fov[0]//2,N_fov[0]//2,N_fov[1],-N_fov[1]//2,N_fov[1]//2)\n",
    "    tree_name = f\"Singles_crystal1_run{i}\"\n",
    "    tree = getattr(infile, tree_name)\n",
    "    tree.Draw(\"sourcePosY:sourcePosX>>htmp\",\"\",\"goff\")\n",
    "    ppdfs_list.append(np.array(htmp).reshape((N_fov[0]+2,N_fov[1]+2))[1:-1,1:-1])\n",
    "    del htmp\n",
    "\n",
    "tree_singles2 = infile.Singles_crystal2\n",
    "htmp=rt.TH2D(\"htmp\",\"htmp\",N_fov[0],-N_fov[0]//2,N_fov[0]//2,N_fov[1],-N_fov[1]//2,N_fov[1]//2)\n",
    "tree_singles2.Draw(\"sourcePosY:sourcePosX>>htmp\", \"\", \"goff\")\n",
    "ppdfs_list.append(np.array(htmp).reshape((N_fov[0]+2,N_fov[1]+2))[1:-1,1:-1])\n",
    "del htmp\n",
    "\n",
    "for i in range(1, 36):\n",
    "    htmp=rt.TH2D(\"htmp\",\"htmp\",N_fov[0],-N_fov[0]//2,N_fov[0]//2,N_fov[1],-N_fov[1]//2,N_fov[1]//2)\n",
    "    tree_name = f\"Singles_crystal2_run{i}\"\n",
    "    tree = getattr(infile, tree_name)\n",
    "    tree.Draw(\"sourcePosY:sourcePosX>>htmp\",\"\",\"goff\")\n",
    "    ppdfs_list.append(np.array(htmp).reshape((N_fov[0]+2,N_fov[1]+2))[1:-1,1:-1])\n",
    "    del htmp\n",
    "\n",
    "tree_singles3 = infile.Singles_crystal3\n",
    "htmp=rt.TH2D(\"htmp\",\"htmp\",N_fov[0],-N_fov[0]//2,N_fov[0]//2,N_fov[1],-N_fov[1]//2,N_fov[1]//2)\n",
    "tree_singles3.Draw(\"sourcePosY:sourcePosX>>htmp\", \"\", \"goff\")\n",
    "ppdfs_list.append(np.array(htmp).reshape((N_fov[0]+2,N_fov[1]+2))[1:-1,1:-1])\n",
    "del htmp\n",
    "\n",
    "for i in range(1, 36):\n",
    "    htmp=rt.TH2D(\"htmp\",\"htmp\",N_fov[0],-N_fov[0]//2,N_fov[0]//2,N_fov[1],-N_fov[1]//2,N_fov[1]//2)\n",
    "    tree_name = f\"Singles_crystal3_run{i}\"\n",
    "    tree = getattr(infile, tree_name)\n",
    "    tree.Draw(\"sourcePosY:sourcePosX>>htmp\",\"\",\"goff\")\n",
    "    ppdfs_list.append(np.array(htmp).reshape((N_fov[0]+2,N_fov[1]+2))[1:-1,1:-1])\n",
    "    del htmp\n",
    "\n",
    "tree_singles4 = infile.Singles_crystal4\n",
    "htmp=rt.TH2D(\"htmp\",\"htmp\",N_fov[0],-N_fov[0]//2,N_fov[0]//2,N_fov[1],-N_fov[1]//2,N_fov[1]//2)\n",
    "tree_singles4.Draw(\"sourcePosY:sourcePosX>>htmp\", \"\", \"goff\")\n",
    "ppdfs_list.append(np.array(htmp).reshape((N_fov[0]+2,N_fov[1]+2))[1:-1,1:-1])\n",
    "del htmp\n",
    "\n",
    "for i in range(1, 36):\n",
    "    htmp=rt.TH2D(\"htmp\",\"htmp\",N_fov[0],-N_fov[0]//2,N_fov[0]//2,N_fov[1],-N_fov[1]//2,N_fov[1]//2)\n",
    "    tree_name = f\"Singles_crystal4_run{i}\"\n",
    "    tree = getattr(infile, tree_name)\n",
    "    tree.Draw(\"sourcePosY:sourcePosX>>htmp\",\"\",\"goff\")\n",
    "    ppdfs_list.append(np.array(htmp).reshape((N_fov[0]+2,N_fov[1]+2))[1:-1,1:-1])\n",
    "    del htmp\n",
    "\n",
    "tree_singles5 = infile.Singles_crystal5\n",
    "htmp=rt.TH2D(\"htmp\",\"htmp\",N_fov[0],-N_fov[0]//2,N_fov[0]//2,N_fov[1],-N_fov[1]//2,N_fov[1]//2)\n",
    "tree_singles5.Draw(\"sourcePosY:sourcePosX>>htmp\", \"\", \"goff\")\n",
    "ppdfs_list.append(np.array(htmp).reshape((N_fov[0]+2,N_fov[1]+2))[1:-1,1:-1])\n",
    "del htmp\n",
    "for i in range(1, 36):\n",
    "    htmp=rt.TH2D(\"htmp\",\"htmp\",N_fov[0],-N_fov[0]//2,N_fov[0]//2,N_fov[1],-N_fov[1]//2,N_fov[1]//2)\n",
    "    tree_name = f\"Singles_crystal5_run{i}\"\n",
    "    tree = getattr(infile, tree_name)\n",
    "    tree.Draw(\"sourcePosY:sourcePosX>>htmp\",\"\",\"goff\")\n",
    "    ppdfs_list.append(np.array(htmp).reshape((N_fov[0]+2,N_fov[1]+2))[1:-1,1:-1])\n",
    "    del htmp\n",
    "\n",
    "tree_singles6 = infile.Singles_crystal6\n",
    "htmp=rt.TH2D(\"htmp\",\"htmp\",N_fov[0],-N_fov[0]//2,N_fov[0]//2,N_fov[1],-N_fov[1]//2,N_fov[1]//2)\n",
    "tree_singles6.Draw(\"sourcePosY:sourcePosX>>htmp\", \"\", \"goff\")\n",
    "ppdfs_list.append(np.array(htmp).reshape((N_fov[0]+2,N_fov[1]+2))[1:-1,1:-1])\n",
    "del htmp\n",
    "for i in range(1, 36):\n",
    "    htmp=rt.TH2D(\"htmp\",\"htmp\",N_fov[0],-N_fov[0]//2,N_fov[0]//2,N_fov[1],-N_fov[1]//2,N_fov[1]//2)\n",
    "    tree_name = f\"Singles_crystal6_run{i}\"\n",
    "    tree = getattr(infile, tree_name)\n",
    "    tree.Draw(\"sourcePosY:sourcePosX>>htmp\",\"\",\"goff\")\n",
    "    ppdfs_list.append(np.array(htmp).reshape((N_fov[0]+2,N_fov[1]+2))[1:-1,1:-1])\n",
    "    del htmp\n",
    "\n",
    "tree_singles7 = infile.Singles_crystal7\n",
    "htmp=rt.TH2D(\"htmp\",\"htmp\",N_fov[0],-N_fov[0]//2,N_fov[0]//2,N_fov[1],-N_fov[1]//2,N_fov[1]//2)\n",
    "tree_singles7.Draw(\"sourcePosY:sourcePosX>>htmp\", \"\", \"goff\")\n",
    "ppdfs_list.append(np.array(htmp).reshape((N_fov[0]+2,N_fov[1]+2))[1:-1,1:-1])\n",
    "del htmp\n",
    "for i in range(1, 36):\n",
    "    htmp=rt.TH2D(\"htmp\",\"htmp\",N_fov[0],-N_fov[0]//2,N_fov[0]//2,N_fov[1],-N_fov[1]//2,N_fov[1]//2)\n",
    "    tree_name = f\"Singles_crystal7_run{i}\"\n",
    "    tree = getattr(infile, tree_name)\n",
    "    tree.Draw(\"sourcePosY:sourcePosX>>htmp\",\"\",\"goff\")\n",
    "    ppdfs_list.append(np.array(htmp).reshape((N_fov[0]+2,N_fov[1]+2))[1:-1,1:-1])\n",
    "    del htmp\n",
    "\n",
    "tree_singles8 = infile.Singles_crystal8\n",
    "htmp=rt.TH2D(\"htmp\",\"htmp\",N_fov[0],-N_fov[0]//2,N_fov[0]//2,N_fov[1],-N_fov[1]//2,N_fov[1]//2)\n",
    "tree_singles8.Draw(\"sourcePosY:sourcePosX>>htmp\", \"\", \"goff\")\n",
    "ppdfs_list.append(np.array(htmp).reshape((N_fov[0]+2,N_fov[1]+2))[1:-1,1:-1])\n",
    "del htmp\n",
    "for i in range(1, 36):\n",
    "    htmp=rt.TH2D(\"htmp\",\"htmp\",N_fov[0],-N_fov[0]//2,N_fov[0]//2,N_fov[1],-N_fov[1]//2,N_fov[1]//2)\n",
    "    tree_name = f\"Singles_crystal8_run{i}\"\n",
    "    tree = getattr(infile, tree_name)\n",
    "    tree.Draw(\"sourcePosY:sourcePosX>>htmp\",\"\",\"goff\")\n",
    "    ppdfs_list.append(np.array(htmp).reshape((N_fov[0]+2,N_fov[1]+2))[1:-1,1:-1])\n",
    "    del htmp"
   ]
  },
  {
   "cell_type": "code",
   "execution_count": 15,
   "id": "cd2b1405",
   "metadata": {},
   "outputs": [
    {
     "name": "stdout",
     "output_type": "stream",
     "text": [
      "(288, 100, 100)\n"
     ]
    }
   ],
   "source": [
    "#translate the list into sysmat and then save it\n",
    "sysmat=np.array(ppdfs_list)\n",
    "print(sysmat.shape)\n",
    "np.savez_compressed('mosaic_sysmat.npz',sysmat=sysmat)"
   ]
  },
  {
   "cell_type": "code",
   "execution_count": null,
   "id": "0cdeff94",
   "metadata": {},
   "outputs": [],
   "source": []
  }
 ],
 "metadata": {
  "kernelspec": {
   "display_name": "Python 3 (ipykernel)",
   "language": "python",
   "name": "python3"
  },
  "language_info": {
   "codemirror_mode": {
    "name": "ipython",
    "version": 3
   },
   "file_extension": ".py",
   "mimetype": "text/x-python",
   "name": "python",
   "nbconvert_exporter": "python",
   "pygments_lexer": "ipython3",
   "version": "3.9.6"
  }
 },
 "nbformat": 4,
 "nbformat_minor": 5
}
